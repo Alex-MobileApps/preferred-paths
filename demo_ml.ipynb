{
 "cells": [
  {
   "cell_type": "code",
   "execution_count": null,
   "metadata": {},
   "outputs": [],
   "source": [
    "import numpy as np\n",
    "import torch\n",
    "from scipy.io import loadmat\n",
    "from ml import BrainDataset, PolicyEstimator, reinforce, sample_batch_fn\n",
    "from utils import train_cv_test_split\n",
    "from cust_plot import plot"
   ]
  },
  {
   "cell_type": "code",
   "execution_count": null,
   "metadata": {},
   "outputs": [],
   "source": [
    "# Input Parameters\n",
    "num_fns = 9\n",
    "res = 68\n",
    "subj = np.arange(484)\n",
    "epochs = 1\n",
    "batch = 4\n",
    "sample = 100\n",
    "hidden_units = 10\n",
    "lr = 0.001\n",
    "save_path = None\n",
    "load_path = None\n",
    "save_freq = 1\n",
    "log = True"
   ]
  },
  {
   "cell_type": "code",
   "execution_count": null,
   "metadata": {},
   "outputs": [],
   "source": [
    "# Read brain data (change file locations as necessary)\n",
    "sc = loadmat(f'data/subjfiles_SC{res}.mat')\n",
    "fc = loadmat(f'data/subjfiles_FC{res}.mat')\n",
    "sc = np.array([sc[f's{str(z+1).zfill(3)}'] for z in subj])\n",
    "fc = np.array([fc[f's{str(z+1).zfill(3)}'] for z in subj])\n",
    "euc_dist = loadmat('data/euc_dist.mat')[f'eu{res}']\n",
    "hubs = np.loadtxt(f'data/hubs_{res}.txt', dtype=np.int, delimiter=',')\n",
    "regions = np.loadtxt(f'data/regions_{res}.txt', dtype=np.int, delimiter=',')"
   ]
  },
  {
   "cell_type": "code",
   "execution_count": null,
   "metadata": {},
   "outputs": [],
   "source": [
    "# Init network parameters\n",
    "pe = PolicyEstimator(res, num_fns, hidden_units=hidden_units)\n",
    "opt = torch.optim.Adam(pe.network.parameters(), lr=lr)"
   ]
  },
  {
   "cell_type": "code",
   "execution_count": null,
   "metadata": {},
   "outputs": [],
   "source": [
    "# Init new/load previous training data\n",
    "if load_path:\n",
    "    # Load from checkpoint\n",
    "    plt_data = torch.load(load_path)\n",
    "    pe.network.load_state_dict(plt_data.pop('model_state_dict'))\n",
    "    opt.load_state_dict(plt_data.pop('optimizer_state_dict'))\n",
    "else:\n",
    "    # New\n",
    "    plt_data = {\n",
    "        'epochs': 0,\n",
    "        'epoch_seconds': [],\n",
    "        'rewards': [],\n",
    "        'success': [],\n",
    "        'mu': [[] for _ in range(num_fns)],\n",
    "        'sig': [[] for _ in range(num_fns)]}\n",
    "    plt_data['train_idx'], plt_data['cv_idx'], plt_data['test_idx'] = train_cv_test_split(subj, train_pct=0.6, cv_pct=0.2)"
   ]
  },
  {
   "cell_type": "code",
   "execution_count": null,
   "metadata": {},
   "outputs": [],
   "source": [
    "# Train / cv / test split\n",
    "train_idx, cv_idx, test_idx = plt_data['train_idx'], plt_data['cv_idx'], plt_data['test_idx']\n",
    "train_data = BrainDataset(sc[train_idx], fc[train_idx], euc_dist, hubs, regions)\n",
    "cv_data = BrainDataset(sc[cv_idx], fc[cv_idx], euc_dist, hubs, regions)\n",
    "test_data =  BrainDataset(sc[test_idx],  fc[test_idx],  euc_dist, hubs, regions)"
   ]
  },
  {
   "cell_type": "code",
   "execution_count": null,
   "metadata": {},
   "outputs": [],
   "source": [
    "# Train network\n",
    "reinforce(pe, opt, train_data, epochs=10, batch=batch, sample=sample, lr=lr, plt_data=plt_data, save_path=save_path, save_freq=save_freq, log=log)"
   ]
  },
  {
   "cell_type": "code",
   "execution_count": null,
   "metadata": {},
   "outputs": [],
   "source": [
    "# Visualise\n",
    "plot(plt_data=plt_data, num_fns=num_fns, plt_avg=50)"
   ]
  },
  {
   "cell_type": "code",
   "execution_count": null,
   "metadata": {},
   "outputs": [],
   "source": [
    "# Evaluate\n",
    "fn_weights = [mu[-1] for mu in plt_data['mu']]\n",
    "test_rewards = np.zeros(len(test_data))\n",
    "test_success = np.zeros(len(test_data))\n",
    "for i, (_, sp, pp, sample_idx) in enumerate(test_data):\n",
    "    pp.fn_weights = fn_weights\n",
    "    test_rewards[i], test_success[i] = sample_batch_fn(pp, sp, sample, sample_idx)\n",
    "\n",
    "test_rewards = test_rewards.mean()\n",
    "test_success = test_success.mean()\n",
    "print(test_rewards, test_success)"
   ]
  }
 ],
 "metadata": {
  "interpreter": {
   "hash": "472f3460692ba2c0861145e5e150d03c8a5c0e40e057944a047c431b9050b93d"
  },
  "kernelspec": {
   "display_name": "Python 3.8.5 64-bit ('base': conda)",
   "name": "python3"
  },
  "language_info": {
   "codemirror_mode": {
    "name": "ipython",
    "version": 3
   },
   "file_extension": ".py",
   "mimetype": "text/x-python",
   "name": "python",
   "nbconvert_exporter": "python",
   "pygments_lexer": "ipython3",
   "version": "3.8.5"
  },
  "orig_nbformat": 4
 },
 "nbformat": 4,
 "nbformat_minor": 2
}
