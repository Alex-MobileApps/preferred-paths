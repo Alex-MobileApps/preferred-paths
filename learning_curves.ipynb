{
 "cells": [
  {
   "cell_type": "code",
   "execution_count": null,
   "source": [
    "import numpy as np\n",
    "import torch\n",
    "import matplotlib.pyplot as plt"
   ],
   "outputs": [],
   "metadata": {}
  },
  {
   "cell_type": "code",
   "execution_count": null,
   "source": [
    "# Default values\n",
    "d = {\n",
    "    'res': 219,\n",
    "    'b': 1,\n",
    "    'su': 0,\n",
    "    'sa': 100,\n",
    "    'hu': 100,\n",
    "    'lr': 0.005\n",
    "}\n",
    "load = lambda name: torch.load(f'results/cv/cv_{name}/cv_{name}_r{d[\"res\"]}_su{d[\"su\"]}_b{d[\"b\"]}_sa{d[\"sa\"]}_hu{d[\"hu\"]}_lr{str(d[\"lr\"])[2:]}.pt', map_location=torch.device('cpu'))"
   ],
   "outputs": [],
   "metadata": {}
  },
  {
   "cell_type": "code",
   "execution_count": null,
   "source": [
    "def set_subplots(M, cols=2, figsize=(20,14)):\n",
    "    len_M = len(M)\n",
    "    rem = len_M % cols != 0\n",
    "    rows = int(len_M / cols) + rem\n",
    "    _, ax = plt.subplots(rows, cols, figsize=figsize)\n",
    "    idx = np.zeros((len_M, 2), dtype=np.int)\n",
    "    for i in range(len_M):\n",
    "        idx[i,0] = int(i / cols)\n",
    "        idx[i,1] = i % cols\n",
    "    for a, b in idx:\n",
    "        ax[a][b].set_xlabel('Epochs')\n",
    "        ax[a][b].set_ylabel('Rewards')\n",
    "    return ax, idx"
   ],
   "outputs": [],
   "metadata": {}
  },
  {
   "cell_type": "code",
   "execution_count": null,
   "source": [
    "def draw_plots(name, M, cols=2, figsize=(20,14)):\n",
    "    default = d[name]\n",
    "    try:\n",
    "        ax, idx = set_subplots(M, cols=cols, figsize=figsize)\n",
    "        for i, m in enumerate(M):\n",
    "            d[name] = m\n",
    "            data = load(name)\n",
    "            a, b = idx[i]\n",
    "            y1 = data['train_epoch_rewards']\n",
    "            y2 = data['cv_epoch_rewards']\n",
    "            x = np.arange(len(y1)) + 1\n",
    "            s = 'all' if d['su'] == 0 else d['su']\n",
    "            sup = f'(res={d[\"res\"]}, batch size={d[\"b\"]}, subj={s}, samples={d[\"sa\"]}, hu={d[\"hu\"]}, lr={d[\"lr\"]})'\n",
    "            ax[a][b].set_title(f'Learning curves for {name} = {m}\\n{sup}')\n",
    "            ax[a][b].plot(x, y1, label='Train')\n",
    "            ax[a][b].plot(x, y2, label='CV')\n",
    "            ax[a][b].legend()\n",
    "    except Exception as e:\n",
    "        print(e)\n",
    "    d[name] = default"
   ],
   "outputs": [],
   "metadata": {}
  },
  {
   "cell_type": "code",
   "execution_count": null,
   "source": [
    "draw_plots('b', [1,2,4,73,146,292], figsize=(21,20))"
   ],
   "outputs": [],
   "metadata": {}
  }
 ],
 "metadata": {
  "orig_nbformat": 4,
  "language_info": {
   "name": "python",
   "version": "3.8.5",
   "mimetype": "text/x-python",
   "codemirror_mode": {
    "name": "ipython",
    "version": 3
   },
   "pygments_lexer": "ipython3",
   "nbconvert_exporter": "python",
   "file_extension": ".py"
  },
  "kernelspec": {
   "name": "python3",
   "display_name": "Python 3.8.5 64-bit ('base': conda)"
  },
  "interpreter": {
   "hash": "a876d5d129613f84737ac732b9dceeab4d5b6e46c5cd6a0b580a7fe744c52632"
  }
 },
 "nbformat": 4,
 "nbformat_minor": 2
}