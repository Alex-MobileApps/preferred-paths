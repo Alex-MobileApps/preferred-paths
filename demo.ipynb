{
 "metadata": {
  "language_info": {
   "codemirror_mode": {
    "name": "ipython",
    "version": 3
   },
   "file_extension": ".py",
   "mimetype": "text/x-python",
   "name": "python",
   "nbconvert_exporter": "python",
   "pygments_lexer": "ipython3",
   "version": "3.8.5"
  },
  "orig_nbformat": 2,
  "kernelspec": {
   "name": "python3",
   "display_name": "Python 3.8.5 64-bit ('base': conda)"
  },
  "metadata": {
   "interpreter": {
    "hash": "a876d5d129613f84737ac732b9dceeab4d5b6e46c5cd6a0b580a7fe744c52632"
   }
  },
  "interpreter": {
   "hash": "a876d5d129613f84737ac732b9dceeab4d5b6e46c5cd6a0b580a7fe744c52632"
  }
 },
 "nbformat": 4,
 "nbformat_minor": 2,
 "cells": [
  {
   "cell_type": "code",
   "execution_count": 1,
   "source": [
    "import numpy as np\n",
    "import networkx as nx\n",
    "import matplotlib.pyplot as plt\n",
    "%matplotlib inline"
   ],
   "outputs": [],
   "metadata": {}
  },
  {
   "cell_type": "code",
   "execution_count": 2,
   "source": [
    "from brain import Brain\n",
    "from preferred_path import PreferredPath"
   ],
   "outputs": [],
   "metadata": {}
  },
  {
   "cell_type": "markdown",
   "source": [
    "# Setup"
   ],
   "metadata": {}
  },
  {
   "cell_type": "markdown",
   "source": [
    "## Brain data"
   ],
   "metadata": {}
  },
  {
   "cell_type": "code",
   "execution_count": 3,
   "source": [
    "sc = np.array(\n",
    "    [[ 0, 5, 0, 0, 0, 0, 0, 0],\n",
    "     [ 0, 0, 4, 0, 0, 9, 0, 0],\n",
    "     [ 0, 4, 0, 0, 0, 1, 7, 0],\n",
    "     [ 0, 0, 0, 0, 2, 6, 7, 0],\n",
    "     [ 0, 0, 0, 0, 0, 3, 0, 0],\n",
    "     [ 0, 9, 1, 6, 3, 0, 0, 0],\n",
    "     [ 0, 0, 7, 7, 0, 0, 0, 0],\n",
    "     [ 0, 0, 0, 0, 0, 0, 0, 0]])\n",
    "\n",
    "fc = np.array(\n",
    "    [[ 0,  0,  1,  0, -2,  0,  2,  0],\n",
    "     [ 0,  0, -2, -1,  0,  0, -4,  0],\n",
    "     [ 1, -2,  0, -2,  0, -1, 17,  2],\n",
    "     [ 0, -1, -2,  0,  1, -1,  1, -2],\n",
    "     [-2,  0,  0,  1,  0,  6, -1,  2],\n",
    "     [ 0,  0, -1, -1,  6,  0,  5, 13],\n",
    "     [ 2, -4, 17,  1, -1,  5,  0, 11],\n",
    "     [ 0,  0,  2, -2,  2, 13, 11,  0]])\n",
    "\n",
    "euc_dist = np.array(\n",
    "    [[ 0, 31, 63, 34, 29, 39, 76, 32],\n",
    "     [31,  0, 60, 30, 26, 38, 83, 45],\n",
    "     [63, 60,  0, 64, 62, 67, 96, 67],\n",
    "     [34, 30, 64,  0, 29, 38, 69, 46],\n",
    "     [29, 26, 62, 29,  0, 33, 82, 40],\n",
    "     [39, 38, 67, 38, 33,  0, 77, 46],\n",
    "     [76, 83, 96, 69, 82, 77,  0, 76],\n",
    "     [32, 45, 67, 46, 40, 46, 76,  0]])"
   ],
   "outputs": [],
   "metadata": {}
  },
  {
   "cell_type": "code",
   "execution_count": 4,
   "source": [
    "brain = Brain(sc=sc, fc=fc, euc_dist=euc_dist, sc_directed=True, sc_thresh=1, fc_thresh=1)"
   ],
   "outputs": [],
   "metadata": {}
  },
  {
   "cell_type": "markdown",
   "source": [
    "## Preferred paths, features and weights"
   ],
   "metadata": {}
  },
  {
   "cell_type": "code",
   "execution_count": 5,
   "source": [
    "# Features\n",
    "node_str = brain.node_strength(weighted=False)\n",
    "streamlines = brain.streamlines()\n",
    "fn_vector = [\n",
    "    lambda loc, nxt, prev_nodes, target: streamlines[loc,nxt],\n",
    "    lambda loc, nxt, prev_nodes, target: node_str[nxt]]\n",
    "\n",
    "# Feature weights\n",
    "fn_weights = [0.4, 0.7]"
   ],
   "outputs": [],
   "metadata": {}
  },
  {
   "cell_type": "code",
   "execution_count": 6,
   "source": [
    "pp = PreferredPath(adj=brain.sc_bin, fn_vector=fn_vector, fn_weights=fn_weights)"
   ],
   "outputs": [],
   "metadata": {}
  },
  {
   "cell_type": "markdown",
   "source": [
    "# Results"
   ],
   "metadata": {}
  },
  {
   "cell_type": "code",
   "execution_count": 7,
   "source": [
    "G = nx.from_numpy_array(brain.sc * brain.sc_bin, create_using=nx.DiGraph)\n",
    "plt.figure(figsize=(5,5))\n",
    "pos = {0:(0,2),1:(1,2),2:(2,2),3:(0,0),4:(2,0),5:(2,1),6:(0,1),7:(1,1)}\n",
    "nx.draw(G, pos=pos, with_labels=True, font_color='white')\n",
    "nx.draw_networkx_edge_labels(G, pos=pos, edge_labels=nx.get_edge_attributes(G, 'weight'))\n",
    "plt.title(\"Weighted SC Layer\")\n",
    "plt.show()"
   ],
   "outputs": [
    {
     "output_type": "display_data",
     "data": {
      "image/png": "[encoded data removed]",
      "text/plain": [
       "<Figure size 360x360 with 1 Axes>"
      ]
     },
     "metadata": {}
    }
   ],
   "metadata": {}
  },
  {
   "cell_type": "markdown",
   "source": [
    "## Single paths"
   ],
   "metadata": {}
  },
  {
   "cell_type": "code",
   "execution_count": 8,
   "source": [
    "pp.retrieve_single_path(source=2, target=3, method='fwd', out_path=True)"
   ],
   "outputs": [],
   "metadata": {}
  },
  {
   "cell_type": "code",
   "execution_count": 9,
   "source": [
    "pp.retrieve_single_path(source=2, target=3, method='fwd', out_path=False)"
   ],
   "outputs": [
    {
     "output_type": "execute_result",
     "data": {
      "text/plain": [
       "-1"
      ]
     },
     "metadata": {},
     "execution_count": 9
    }
   ],
   "metadata": {}
  },
  {
   "cell_type": "code",
   "execution_count": 10,
   "source": [
    "pp.retrieve_single_path(source=2, target=1, method='back', out_path=True)"
   ],
   "outputs": [
    {
     "output_type": "execute_result",
     "data": {
      "text/plain": [
       "[2, 5, 1]"
      ]
     },
     "metadata": {},
     "execution_count": 10
    }
   ],
   "metadata": {}
  },
  {
   "cell_type": "code",
   "execution_count": 11,
   "source": [
    "pp.retrieve_single_path(source=6, target=1, method='back', out_path=False)"
   ],
   "outputs": [
    {
     "output_type": "execute_result",
     "data": {
      "text/plain": [
       "2"
      ]
     },
     "metadata": {},
     "execution_count": 11
    }
   ],
   "metadata": {}
  },
  {
   "cell_type": "markdown",
   "source": [
    "### All paths"
   ],
   "metadata": {}
  },
  {
   "cell_type": "code",
   "execution_count": 12,
   "source": [
    "pp.retrieve_all_paths(method='rev', out_path=True)"
   ],
   "outputs": [
    {
     "output_type": "execute_result",
     "data": {
      "text/plain": [
       "{0: {1: [0, 1], 2: None, 3: None, 4: None, 5: [0, 1, 5], 6: None, 7: None},\n",
       " 1: {0: None, 2: None, 3: None, 4: None, 5: [1, 5], 6: None, 7: None},\n",
       " 2: {0: None, 1: [2, 5, 1], 3: None, 4: None, 5: [2, 5], 6: None, 7: None},\n",
       " 3: {0: None, 1: [3, 5, 1], 2: None, 4: None, 5: [3, 5], 6: None, 7: None},\n",
       " 4: {0: None, 1: [4, 5, 1], 2: None, 3: None, 5: [4, 5], 6: None, 7: None},\n",
       " 5: {0: None, 1: [5, 1], 2: None, 3: None, 4: None, 6: None, 7: None},\n",
       " 6: {0: None,\n",
       "  1: [6, 2, 5, 1],\n",
       "  2: [6, 2],\n",
       "  3: None,\n",
       "  4: None,\n",
       "  5: [6, 2, 5],\n",
       "  7: None},\n",
       " 7: {0: None, 1: None, 2: None, 3: None, 4: None, 5: None, 6: None}}"
      ]
     },
     "metadata": {},
     "execution_count": 12
    }
   ],
   "metadata": {}
  },
  {
   "cell_type": "code",
   "execution_count": 13,
   "source": [
    "pp.retrieve_all_paths(method='rev', out_path=False)"
   ],
   "outputs": [
    {
     "output_type": "execute_result",
     "data": {
      "text/plain": [
       "array([[ 0.,  1., -1., -1., -1.,  2., -1., -1.],\n",
       "       [-1.,  0., -1., -1., -1.,  1., -1., -1.],\n",
       "       [-1.,  2.,  0., -1., -1.,  1., -1., -1.],\n",
       "       [-1.,  2., -1.,  0., -1.,  1., -1., -1.],\n",
       "       [-1.,  2., -1., -1.,  0.,  1., -1., -1.],\n",
       "       [-1.,  1., -1., -1., -1.,  0., -1., -1.],\n",
       "       [-1.,  3.,  1., -1., -1.,  2.,  0., -1.],\n",
       "       [-1., -1., -1., -1., -1., -1., -1.,  0.]])"
      ]
     },
     "metadata": {},
     "execution_count": 13
    }
   ],
   "metadata": {}
  },
  {
   "cell_type": "code",
   "execution_count": 14,
   "source": [
    "pp.retrieve_all_paths(method='fwd', out_path=True)"
   ],
   "outputs": [
    {
     "output_type": "execute_result",
     "data": {
      "text/plain": [
       "{0: {1: [0, 1],\n",
       "  2: [0, 1, 5, 3, 6, 2],\n",
       "  3: [0, 1, 5, 3],\n",
       "  4: None,\n",
       "  5: [0, 1, 5],\n",
       "  6: [0, 1, 5, 3, 6],\n",
       "  7: None},\n",
       " 1: {0: None,\n",
       "  2: [1, 5, 3, 6, 2],\n",
       "  3: [1, 5, 3],\n",
       "  4: None,\n",
       "  5: [1, 5],\n",
       "  6: [1, 5, 3, 6],\n",
       "  7: None},\n",
       " 2: {0: None, 1: [2, 5, 1], 3: None, 4: None, 5: [2, 5], 6: None, 7: None},\n",
       " 3: {0: None,\n",
       "  1: [3, 5, 1],\n",
       "  2: [3, 5, 1, 2],\n",
       "  4: None,\n",
       "  5: [3, 5],\n",
       "  6: [3, 5, 1, 2, 6],\n",
       "  7: None},\n",
       " 4: {0: None,\n",
       "  1: [4, 5, 1],\n",
       "  2: [4, 5, 1, 2],\n",
       "  3: [4, 5, 1, 2, 6, 3],\n",
       "  5: [4, 5],\n",
       "  6: [4, 5, 1, 2, 6],\n",
       "  7: None},\n",
       " 5: {0: None,\n",
       "  1: [5, 1],\n",
       "  2: [5, 1, 2],\n",
       "  3: [5, 1, 2, 6, 3],\n",
       "  4: [5, 1, 2, 6, 3, 4],\n",
       "  6: [5, 1, 2, 6],\n",
       "  7: None},\n",
       " 6: {0: None,\n",
       "  1: [6, 2, 1],\n",
       "  2: [6, 2],\n",
       "  3: [6, 2, 1, 5, 3],\n",
       "  4: [6, 2, 1, 5, 3, 4],\n",
       "  5: [6, 2, 1, 5],\n",
       "  7: None},\n",
       " 7: {0: None, 1: None, 2: None, 3: None, 4: None, 5: None, 6: None}}"
      ]
     },
     "metadata": {},
     "execution_count": 14
    }
   ],
   "metadata": {}
  },
  {
   "cell_type": "code",
   "execution_count": 15,
   "source": [
    "pp.retrieve_all_paths(method='fwd', out_path=False)"
   ],
   "outputs": [
    {
     "output_type": "execute_result",
     "data": {
      "text/plain": [
       "array([[ 0.,  1.,  5.,  3., -1.,  2.,  4., -1.],\n",
       "       [-1.,  0.,  4.,  2., -1.,  1.,  3., -1.],\n",
       "       [-1.,  2.,  0., -1., -1.,  1., -1., -1.],\n",
       "       [-1.,  2.,  3.,  0., -1.,  1.,  4., -1.],\n",
       "       [-1.,  2.,  3.,  5.,  0.,  1.,  4., -1.],\n",
       "       [-1.,  1.,  2.,  4.,  5.,  0.,  3., -1.],\n",
       "       [-1.,  2.,  1.,  4.,  5.,  3.,  0., -1.],\n",
       "       [-1., -1., -1., -1., -1., -1., -1.,  0.]])"
      ]
     },
     "metadata": {},
     "execution_count": 15
    }
   ],
   "metadata": {}
  },
  {
   "cell_type": "code",
   "execution_count": 16,
   "source": [
    "pp.retrieve_all_paths(method='back', out_path=True)"
   ],
   "outputs": [
    {
     "output_type": "execute_result",
     "data": {
      "text/plain": [
       "{0: {1: [0, 1],\n",
       "  2: [0, 1, 5, 3, 6, 2],\n",
       "  3: [0, 1, 5, 3],\n",
       "  4: [0, 1, 5, 3, 4],\n",
       "  5: [0, 1, 5],\n",
       "  6: [0, 1, 5, 3, 6],\n",
       "  7: None},\n",
       " 1: {0: None,\n",
       "  2: [1, 5, 3, 6, 2],\n",
       "  3: [1, 5, 3],\n",
       "  4: [1, 5, 3, 4],\n",
       "  5: [1, 5],\n",
       "  6: [1, 5, 3, 6],\n",
       "  7: None},\n",
       " 2: {0: None,\n",
       "  1: [2, 5, 1],\n",
       "  3: [2, 5, 3],\n",
       "  4: [2, 5, 3, 4],\n",
       "  5: [2, 5],\n",
       "  6: [2, 5, 3, 6],\n",
       "  7: None},\n",
       " 3: {0: None,\n",
       "  1: [3, 5, 1],\n",
       "  2: [3, 5, 1, 2],\n",
       "  4: [3, 5, 4],\n",
       "  5: [3, 5],\n",
       "  6: [3, 5, 1, 2, 6],\n",
       "  7: None},\n",
       " 4: {0: None,\n",
       "  1: [4, 5, 1],\n",
       "  2: [4, 5, 1, 2],\n",
       "  3: [4, 5, 1, 2, 6, 3],\n",
       "  5: [4, 5],\n",
       "  6: [4, 5, 1, 2, 6],\n",
       "  7: None},\n",
       " 5: {0: None,\n",
       "  1: [5, 1],\n",
       "  2: [5, 1, 2],\n",
       "  3: [5, 1, 2, 6, 3],\n",
       "  4: [5, 1, 2, 6, 3, 4],\n",
       "  6: [5, 1, 2, 6],\n",
       "  7: None},\n",
       " 6: {0: None,\n",
       "  1: [6, 2, 1],\n",
       "  2: [6, 2],\n",
       "  3: [6, 2, 1, 5, 3],\n",
       "  4: [6, 2, 1, 5, 3, 4],\n",
       "  5: [6, 2, 1, 5],\n",
       "  7: None},\n",
       " 7: {0: None, 1: None, 2: None, 3: None, 4: None, 5: None, 6: None}}"
      ]
     },
     "metadata": {},
     "execution_count": 16
    }
   ],
   "metadata": {}
  },
  {
   "cell_type": "code",
   "execution_count": 17,
   "source": [
    "pp.retrieve_all_paths(method='back', out_path=False)"
   ],
   "outputs": [
    {
     "output_type": "execute_result",
     "data": {
      "text/plain": [
       "array([[ 0.,  1.,  5.,  3.,  4.,  2.,  4., -1.],\n",
       "       [-1.,  0.,  4.,  2.,  3.,  1.,  3., -1.],\n",
       "       [-1.,  2.,  0.,  2.,  3.,  1.,  3., -1.],\n",
       "       [-1.,  2.,  3.,  0.,  2.,  1.,  4., -1.],\n",
       "       [-1.,  2.,  3.,  5.,  0.,  1.,  4., -1.],\n",
       "       [-1.,  1.,  2.,  4.,  5.,  0.,  3., -1.],\n",
       "       [-1.,  2.,  1.,  4.,  5.,  3.,  0., -1.],\n",
       "       [-1., -1., -1., -1., -1., -1., -1.,  0.]])"
      ]
     },
     "metadata": {},
     "execution_count": 17
    }
   ],
   "metadata": {}
  },
  {
   "cell_type": "markdown",
   "source": [
    "# Updating weights"
   ],
   "metadata": {}
  },
  {
   "cell_type": "code",
   "execution_count": 18,
   "source": [
    "pp.fn_weights"
   ],
   "outputs": [
    {
     "output_type": "execute_result",
     "data": {
      "text/plain": [
       "[0.4, 0.7]"
      ]
     },
     "metadata": {},
     "execution_count": 18
    }
   ],
   "metadata": {}
  },
  {
   "cell_type": "code",
   "execution_count": 19,
   "source": [
    "pp.retrieve_all_paths(method='back', out_path=False)"
   ],
   "outputs": [
    {
     "output_type": "execute_result",
     "data": {
      "text/plain": [
       "array([[ 0.,  1.,  5.,  3.,  4.,  2.,  4., -1.],\n",
       "       [-1.,  0.,  4.,  2.,  3.,  1.,  3., -1.],\n",
       "       [-1.,  2.,  0.,  2.,  3.,  1.,  3., -1.],\n",
       "       [-1.,  2.,  3.,  0.,  2.,  1.,  4., -1.],\n",
       "       [-1.,  2.,  3.,  5.,  0.,  1.,  4., -1.],\n",
       "       [-1.,  1.,  2.,  4.,  5.,  0.,  3., -1.],\n",
       "       [-1.,  2.,  1.,  4.,  5.,  3.,  0., -1.],\n",
       "       [-1., -1., -1., -1., -1., -1., -1.,  0.]])"
      ]
     },
     "metadata": {},
     "execution_count": 19
    }
   ],
   "metadata": {}
  },
  {
   "cell_type": "code",
   "execution_count": 20,
   "source": [
    "pp.fn_weights = [0.1, 9]\n",
    "pp.retrieve_all_paths(method='back', out_path=False)"
   ],
   "outputs": [
    {
     "output_type": "execute_result",
     "data": {
      "text/plain": [
       "array([[ 0.,  1.,  3.,  5.,  6.,  2.,  4., -1.],\n",
       "       [-1.,  0.,  2.,  4.,  5.,  1.,  3., -1.],\n",
       "       [-1.,  2.,  0.,  2.,  3.,  1.,  3., -1.],\n",
       "       [-1.,  3.,  2.,  0.,  2.,  1.,  3., -1.],\n",
       "       [-1.,  3.,  2.,  4.,  0.,  1.,  3., -1.],\n",
       "       [-1.,  2.,  1.,  3.,  4.,  0.,  2., -1.],\n",
       "       [-1.,  3.,  1.,  3.,  4.,  2.,  0., -1.],\n",
       "       [-1., -1., -1., -1., -1., -1., -1.,  0.]])"
      ]
     },
     "metadata": {},
     "execution_count": 20
    }
   ],
   "metadata": {}
  }
 ]
}