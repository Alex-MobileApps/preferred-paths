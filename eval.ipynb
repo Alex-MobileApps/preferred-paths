{
 "metadata": {
  "language_info": {
   "codemirror_mode": {
    "name": "ipython",
    "version": 3
   },
   "file_extension": ".py",
   "mimetype": "text/x-python",
   "name": "python",
   "nbconvert_exporter": "python",
   "pygments_lexer": "ipython3",
   "version": "3.8.5"
  },
  "orig_nbformat": 2,
  "kernelspec": {
   "name": "python3",
   "display_name": "Python 3.8.5 64-bit ('base': conda)"
  },
  "metadata": {
   "interpreter": {
    "hash": "a876d5d129613f84737ac732b9dceeab4d5b6e46c5cd6a0b580a7fe744c52632"
   }
  },
  "interpreter": {
   "hash": "a876d5d129613f84737ac732b9dceeab4d5b6e46c5cd6a0b580a7fe744c52632"
  }
 },
 "nbformat": 4,
 "nbformat_minor": 2,
 "cells": [
  {
   "cell_type": "code",
   "execution_count": null,
   "source": [
    "import numpy as np\n",
    "import torch\n",
    "from scipy.io import loadmat\n",
    "from cust_plot import plot\n",
    "from ml import BrainDataset, sample_batch_fn"
   ],
   "outputs": [],
   "metadata": {}
  },
  {
   "cell_type": "markdown",
   "source": [
    "# Evaluate train/test results"
   ],
   "metadata": {}
  },
  {
   "cell_type": "code",
   "execution_count": null,
   "source": [
    "# Plot training data\n",
    "fname = 'demo_1.pt'\n",
    "data = torch.load(f'results/{fname}', map_location=torch.device('cpu'))\n",
    "plt_data = {k: data[k] for k in ('rewards','success','mu','sig')}\n",
    "num_fns = 9\n",
    "plot(plt_data, num_fns, plt_avg=40)"
   ],
   "outputs": [],
   "metadata": {}
  },
  {
   "cell_type": "code",
   "execution_count": null,
   "source": [
    "# Load test data\n",
    "res = 68\n",
    "subj = data['test_idx']\n",
    "sc = loadmat(f'data/subjfiles_SC{res}.mat')\n",
    "fc = loadmat(f'data/subjfiles_FC{res}.mat')\n",
    "sc = np.array([sc[f's{str(z+1).zfill(3)}'] for z in subj])\n",
    "fc = np.array([fc[f's{str(z+1).zfill(3)}'] for z in subj])\n",
    "euc_dist = loadmat('data/euc_dist.mat')[f'eu{res}']\n",
    "hubs = np.loadtxt(f'data/hubs_{res}.txt', dtype=np.int, delimiter=',')\n",
    "regions = np.loadtxt(f'data/regions_{res}.txt', dtype=np.int, delimiter=',')\n",
    "test_data = BrainDataset(sc, fc, euc_dist, hubs, regions)"
   ],
   "outputs": [],
   "metadata": {}
  },
  {
   "cell_type": "code",
   "execution_count": null,
   "source": [
    "# Testing on 64 samples\n",
    "fn_weights = [mu[-1] for mu in plt_data['mu']]\n",
    "test_rewards = np.zeros(len(test_data))\n",
    "test_success = np.zeros(len(test_data))\n",
    "for i, (_, sp, pp, sample_idx) in enumerate(test_data):\n",
    "    pp.fn_weights = fn_weights\n",
    "    test_rewards[i], test_success[i] = sample_batch_fn(pp, sp, 64, sample_idx)\n",
    "\n",
    "test_rewards = test_rewards.mean()\n",
    "test_success = test_success.mean()\n",
    "print(test_rewards, test_success)"
   ],
   "outputs": [],
   "metadata": {}
  }
 ]
}